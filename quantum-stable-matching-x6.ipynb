{
 "cells": [
  {
   "cell_type": "code",
   "execution_count": 1,
   "metadata": {},
   "outputs": [],
   "source": [
    "from qiskit import Aer, assemble\n",
    "from qiskit import QuantumCircuit\n",
    "from qiskit.visualization import plot_histogram\n",
    "from qiskit.aqua.utils import tensorproduct\n",
    "from qiskit_textbook.tools import vector2latex\n",
    "import matplotlib.pyplot as plt\n",
    "import numpy as np\n",
    "from math import pi"
   ]
  },
  {
   "cell_type": "code",
   "execution_count": 2,
   "metadata": {},
   "outputs": [],
   "source": [
    "men = [0, 1]\n",
    "women = [0, 1]  # [\"A\", \"B\"]\n",
    "# Demo example\n",
    "# |  Pref   |   1st   |   2nd   |\n",
    "# |  Man 0  | Woman A | Woman B |\n",
    "# |  Man 1  | Woman A | Woman B |\n",
    "\n",
    "# |  Pref   |   1st   |   2nd   |\n",
    "# | Woman A |  Man 0  |  Man 1  |\n",
    "# | Woman B |  Man 1  |  Man 0  |\n",
    "\n",
    "# By a men-optimal Gale-Shapley Algorithm (classical), the stable matching would be:\n",
    "# (Man 0, Woman A), (Man 1, Woman B)\n",
    "\n",
    "# By a women-optimal Gale-Shapley Algorithm (classical), the stable matching would be:\n",
    "# (Man 0, Woman A), (Man 1, Woman B)"
   ]
  },
  {
   "cell_type": "code",
   "execution_count": 3,
   "metadata": {},
   "outputs": [],
   "source": [
    "def man_decision(man, decision_oracle, n_women=len(women)):\n",
    "    grover_circuit = QuantumCircuit(int(np.log2(n_women)))  # each man is assigned log2(n_women) qubits\n",
    "    grover_circuit = initialize_s(grover_circuit, [0])\n",
    "\n",
    "    for i in range(int(np.sqrt((n_women)))):  # Grover Algorithm: repeat this step for sqrt(n_women) times\n",
    "        grover_circuit.barrier()  # for visual separation\n",
    "        grover_circuit = add_oracle(grover_circuit, 0, decision_oracle)\n",
    "        grover_circuit.barrier()  # for visual separation\n",
    "        grover_circuit = add_diffuser(grover_circuit, 0, decision_oracle)\n",
    "    \n",
    "    title = \"Man_\" + str(man)\n",
    "    statevector, counts = simulation(grover_circuit, title)\n",
    "    return statevector, counts"
   ]
  },
  {
   "cell_type": "code",
   "execution_count": 4,
   "metadata": {},
   "outputs": [],
   "source": [
    "def woman_decision(woman, decision_oracle, n_men=len(men)):\n",
    "    grover_circuit = QuantumCircuit(int(np.log2(n_men)))  # each woman is assigned log2(n_men) qubits\n",
    "    grover_circuit = initialize_s(grover_circuit, [0])\n",
    "\n",
    "    for i in range(int(np.sqrt((n_men)))):  # Grover Algorithm: repeat this step for sqrt(n_women) times\n",
    "        grover_circuit.barrier()  # for visual separation\n",
    "        grover_circuit = add_oracle(grover_circuit, 0, decision_oracle)\n",
    "        grover_circuit.barrier()  # for visual separation\n",
    "        grover_circuit = add_diffuser(grover_circuit, 0, decision_oracle)\n",
    "\n",
    "    woman_identifier = \"A\" if woman == 0 else \"B\"\n",
    "    title = \"Woman_\" + woman_identifier\n",
    "    statevector, counts = simulation(grover_circuit, title)\n",
    "    return statevector, counts"
   ]
  },
  {
   "cell_type": "code",
   "execution_count": 5,
   "metadata": {},
   "outputs": [],
   "source": [
    "def initialize_s(qc, qubits):\n",
    "    \"\"\"Apply a H-gate to 'qubits' in qc\"\"\"\n",
    "    for q in qubits:\n",
    "        qc.h(q)\n",
    "\n",
    "    return qc"
   ]
  },
  {
   "cell_type": "code",
   "execution_count": 6,
   "metadata": {},
   "outputs": [],
   "source": [
    "def show_circuit(qc, title):\n",
    "    qc.draw(output=\"mpl\")\n",
    "    plt.title(title)\n",
    "    plt.show()"
   ]
  },
  {
   "cell_type": "code",
   "execution_count": 7,
   "metadata": {},
   "outputs": [],
   "source": [
    "def add_oracle(qc, qubit, oracle=None):\n",
    "    if callable(oracle):\n",
    "        qc = oracle(qc, qubit)\n",
    "    return qc"
   ]
  },
  {
   "cell_type": "code",
   "execution_count": 8,
   "metadata": {},
   "outputs": [],
   "source": [
    "def add_diffuser(qc, qubit, oracle=None):\n",
    "    qc.h(qubit)\n",
    "    qc = add_oracle(qc, qubit, oracle)\n",
    "    qc.h(qubit)\n",
    "    return qc"
   ]
  },
  {
   "cell_type": "code",
   "execution_count": 9,
   "metadata": {},
   "outputs": [],
   "source": [
    "def simulation(qc, title=None):\n",
    "    qc.measure_all()\n",
    "    if title is not None:\n",
    "        show_circuit(qc, title + \" measured\")\n",
    "    sim = Aer.get_backend(\"aer_simulator\")\n",
    "\n",
    "    qc_sim = qc.copy()\n",
    "    qc_sim.save_statevector()\n",
    "    qobj = assemble(qc_sim)\n",
    "    result = sim.run(qobj).result()\n",
    "\n",
    "    statevector = result.get_statevector()\n",
    "    counts = result.get_counts()\n",
    "    # vector2latex(statevector, pretext=\"|\\\\psi\\\\rangle =\")\n",
    "    # plot_histogram(counts)\n",
    "\n",
    "    return statevector, counts"
   ]
  },
  {
   "cell_type": "code",
   "execution_count": 10,
   "metadata": {},
   "outputs": [],
   "source": [
    "def oracle_men(qc, qubit):\n",
    "    qc.rz(pi, qubit)\n",
    "    return qc"
   ]
  },
  {
   "cell_type": "code",
   "execution_count": 11,
   "metadata": {},
   "outputs": [
    {
     "data": {
      "image/png": "[encoded data removed]",
      "text/plain": [
       "<Figure size 658.679x144.48 with 1 Axes>"
      ]
     },
     "metadata": {},
     "output_type": "display_data"
    },
    {
     "data": {
      "image/png": "[encoded data removed]",
      "text/plain": [
       "<Figure size 658.679x144.48 with 1 Axes>"
      ]
     },
     "metadata": {},
     "output_type": "display_data"
    }
   ],
   "source": [
    "man0_sv, man0_count = man_decision(men[0], oracle_men)\n",
    "man1_sv, man1_count = man_decision(men[1], oracle_men)\n",
    "state_space_men = tensorproduct(man0_sv, man1_sv)  # state space of all men decision system"
   ]
  },
  {
   "cell_type": "code",
   "execution_count": 12,
   "metadata": {},
   "outputs": [],
   "source": [
    "def oracle_womanA(qc, qubit):\n",
    "    qc.rz(pi, qubit)\n",
    "    return qc"
   ]
  },
  {
   "cell_type": "code",
   "execution_count": 13,
   "metadata": {},
   "outputs": [
    {
     "data": {
      "image/png": "[encoded data removed]",
      "text/plain": [
       "<Figure size 658.679x144.48 with 1 Axes>"
      ]
     },
     "metadata": {},
     "output_type": "display_data"
    }
   ],
   "source": [
    "womanA_sv, womanA_count = woman_decision(women[0], oracle_womanA)"
   ]
  },
  {
   "cell_type": "code",
   "execution_count": 14,
   "metadata": {},
   "outputs": [],
   "source": [
    "def oracle_womanB(qc, qubit):\n",
    "    qc.z(qubit)\n",
    "    return qc"
   ]
  },
  {
   "cell_type": "code",
   "execution_count": 15,
   "metadata": {},
   "outputs": [
    {
     "data": {
      "image/png": "[encoded data removed]",
      "text/plain": [
       "<Figure size 658.679x144.48 with 1 Axes>"
      ]
     },
     "metadata": {},
     "output_type": "display_data"
    }
   ],
   "source": [
    "womanB_sv, womanB_count = woman_decision(women[1], oracle_womanB)\n",
    "state_space_women = tensorproduct(womanA_sv, womanB_sv)  # women acceptances state space"
   ]
  },
  {
   "cell_type": "code",
   "execution_count": 16,
   "metadata": {
    "scrolled": true
   },
   "outputs": [
    {
     "name": "stdout",
     "output_type": "stream",
     "text": [
      "[ 0.+0.00000000e+00j  0.+0.00000000e+00j  0.+0.00000000e+00j\n",
      "  0.+0.00000000e+00j -0.+0.00000000e+00j -1.+9.79717439e-16j\n",
      "  0.+0.00000000e+00j -0.+0.00000000e+00j -0.+0.00000000e+00j\n",
      "  0.+0.00000000e+00j  0.+0.00000000e+00j -0.+0.00000000e+00j\n",
      "  0.+0.00000000e+00j  0.+0.00000000e+00j  0.+0.00000000e+00j\n",
      "  0.+0.00000000e+00j]\n"
     ]
    }
   ],
   "source": [
    "couple_stability = tensorproduct(state_space_men, state_space_women)\n",
    "print(couple_stability)"
   ]
  },
  {
   "cell_type": "code",
   "execution_count": null,
   "metadata": {},
   "outputs": [],
   "source": []
  }
 ],
 "metadata": {
  "kernelspec": {
   "display_name": "qiskit-env",
   "language": "python",
   "name": "qiskit-env"
  },
  "language_info": {
   "codemirror_mode": {
    "name": "ipython",
    "version": 3
   },
   "file_extension": ".py",
   "mimetype": "text/x-python",
   "name": "python",
   "nbconvert_exporter": "python",
   "pygments_lexer": "ipython3",
   "version": "3.8.6"
  }
 },
 "nbformat": 4,
 "nbformat_minor": 4
}
